{
  "nbformat": 4,
  "nbformat_minor": 0,
  "metadata": {
    "colab": {
      "name": "CNN_chess.ipynb",
      "provenance": [],
      "collapsed_sections": []
    },
    "kernelspec": {
      "name": "python3",
      "display_name": "Python 3"
    },
    "language_info": {
      "name": "python"
    }
  },
  "cells": [
    {
      "cell_type": "code",
      "metadata": {
        "id": "7kGoPZXOv14R"
      },
      "source": [
        "import chess\n",
        "import chess.pgn\n",
        "import numpy as np\n",
        "import pandas as pd\n",
        "from google.colab import drive\n",
        "from tensorflow import keras\n",
        "from tensorflow.keras import layers\n",
        "import os"
      ],
      "execution_count": null,
      "outputs": []
    },
    {
      "cell_type": "code",
      "metadata": {
        "colab": {
          "base_uri": "https://localhost:8080/"
        },
        "id": "9gu6bkMBwDaB",
        "outputId": "d6b9f8a5-2d47-4eb8-b7b0-9416eb0e3cd1"
      },
      "source": [
        "drive.mount(\"/content/drive/\")"
      ],
      "execution_count": null,
      "outputs": [
        {
          "output_type": "stream",
          "text": [
            "Mounted at /content/drive/\n"
          ],
          "name": "stdout"
        }
      ]
    },
    {
      "cell_type": "code",
      "metadata": {
        "id": "y2HyG8YfxdnJ"
      },
      "source": [
        "# Const variables for parsing the raw data \n",
        "\n",
        "BOARD_SIZE = (7, 8, 8)\n",
        "PIECE_INDEX = {'P' : 0, 'R' : 1, 'N' : 2, 'B' : 3, 'Q' : 4, 'K' : 5}\n",
        "PATTERN = ['r', 'n', 'b', 'q', 'k', 'p', 'P','R', 'N', 'B', 'Q', 'K']"
      ],
      "execution_count": null,
      "outputs": []
    },
    {
      "cell_type": "code",
      "metadata": {
        "id": "0RmnkYuB4jrF"
      },
      "source": [
        "def board_to_list(board):\n",
        "  #a list to store the rows\n",
        "  pieces = []\n",
        "  #split into rows and remove tail info\n",
        "  temp = board.board_fen().split(\"/\")\n",
        "  #for each row, split the individual characters out\n",
        "  for r in temp:\n",
        "    #create an empty list to add to\n",
        "    l = []\n",
        "    #check if each character is a digit\n",
        "    for c in r:\n",
        "      #if it is, append empty char to the list the number of times equal to the digit\n",
        "      if c.isdigit():\n",
        "        for i in range(int(c)):\n",
        "          l.append(' ')\n",
        "      #otherwise append the character\n",
        "      else:\n",
        "        l.append(c)\n",
        "    #append the list of characters to our list of pieces\n",
        "    pieces.append(l)\n",
        "  return pieces\n"
      ],
      "execution_count": null,
      "outputs": []
    },
    {
      "cell_type": "code",
      "metadata": {
        "id": "VW-lGMeP7ajK"
      },
      "source": [
        "# Function returns 1 when White player win, 0.5 for draw, 0 for lose\n",
        "def get_result(game):\n",
        "  if game.headers['Result'] == '1-0':\n",
        "    return 1\n",
        "  elif game.headers['Result'] =='1/2-1/2':\n",
        "    return 0.5\n",
        "  else:\n",
        "    return 0"
      ],
      "execution_count": null,
      "outputs": []
    },
    {
      "cell_type": "code",
      "metadata": {
        "id": "ZoAZ159aXHz-"
      },
      "source": [
        "# function to change the board (FEN) object to input \n",
        "\n",
        "def board_to_input(board, prev_board=None):\n",
        "  input = np.zeros(BOARD_SIZE) # create 7 channels with 8x8 numpy array\n",
        "  board_list = board_to_list(board) # change the board to list\n",
        "\n",
        "  for col in range(len(board_list)):\n",
        "    for row in range(len(board_list[0])):\n",
        "      if board_list[col][row] == ' ': continue # if the board is space(blank position), leave it as zero\n",
        "      if board_list[col][row].isupper():\n",
        "        input[ PIECE_INDEX[board_list[col][row]], col, row ] = 1 # white player pieces \n",
        "      else:\n",
        "        input[ PIECE_INDEX[board_list[col][row].upper()], col, row ] = -1 # black player pieces\n",
        "\n",
        "  if prev_board is not None: \n",
        "    prev_board = np.flip(prev_board,1)*-1 # need to flip and multiply by -1 (change the board to a perspective from opponenet player)\n",
        "    for channel in range(6):\n",
        "      for col in range(8):\n",
        "        for row in range(8):\n",
        "          if input[channel, col, row] == 0 and prev_board[channel, col, row] != 0:\n",
        "            input[6, col, row] = -1\n",
        "  return input"
      ],
      "execution_count": null,
      "outputs": []
    },
    {
      "cell_type": "code",
      "metadata": {
        "id": "7zufP23ieC2L"
      },
      "source": [
        "# get all boards (every boards after players move the piece)\n",
        "def get_board_states(game):\n",
        "  board = game.board() #call board from game\n",
        "  game_result = get_result(game) # get result\n",
        "  label = [game_result]\n",
        "  board_states = []\n",
        "  board_states.append(board_to_input(board)) \n",
        "\n",
        "  for move in game.main_line():\n",
        "    board.push(move) # move the piece\n",
        "    last_move = board_states[-1] # previous board state input\n",
        "    if board.turn: # white player turn\n",
        "      label.append(game_result)\n",
        "      board_states.append(board_to_input(board, last_move))\n",
        "\n",
        "    else: # black player turn \n",
        "      label.append(game_result)\n",
        "      board_states.append(board_to_input(board.mirror(), last_move))\n",
        "\n",
        "\n",
        "  return np.array(board_states), np.array(label).reshape(np.array(label).shape[0],1)"
      ],
      "execution_count": null,
      "outputs": []
    },
    {
      "cell_type": "code",
      "metadata": {
        "colab": {
          "base_uri": "https://localhost:8080/"
        },
        "id": "DCyOd25LCu8h",
        "outputId": "bed5e3c3-4c56-41ec-ee6f-997b15dcb8c2"
      },
      "source": [
        "board = game.board()\n",
        "print(board)"
      ],
      "execution_count": null,
      "outputs": [
        {
          "output_type": "stream",
          "text": [
            "r n b q k b n r\n",
            "p p p p p p p p\n",
            ". . . . . . . .\n",
            ". . . . . . . .\n",
            ". . . . . . . .\n",
            ". . . . . . . .\n",
            "P P P P P P P P\n",
            "R N B Q K B N R\n"
          ],
          "name": "stdout"
        }
      ]
    },
    {
      "cell_type": "code",
      "metadata": {
        "id": "qh8olKiZVy_f",
        "colab": {
          "base_uri": "https://localhost:8080/"
        },
        "outputId": "40a0d08d-16af-4b71-c7cf-7249e064781d"
      },
      "source": [
        "a[0]"
      ],
      "execution_count": null,
      "outputs": [
        {
          "output_type": "execute_result",
          "data": {
            "text/plain": [
              "array([[[ 0.,  0.,  0.,  0.,  0.,  0.,  0.,  0.],\n",
              "        [-1., -1., -1., -1., -1., -1., -1., -1.],\n",
              "        [ 0.,  0.,  0.,  0.,  0.,  0.,  0.,  0.],\n",
              "        [ 0.,  0.,  0.,  0.,  0.,  0.,  0.,  0.],\n",
              "        [ 0.,  0.,  0.,  0.,  0.,  0.,  0.,  0.],\n",
              "        [ 0.,  0.,  0.,  0.,  0.,  0.,  0.,  0.],\n",
              "        [ 1.,  1.,  1.,  1.,  1.,  1.,  1.,  1.],\n",
              "        [ 0.,  0.,  0.,  0.,  0.,  0.,  0.,  0.]],\n",
              "\n",
              "       [[-1.,  0.,  0.,  0.,  0.,  0.,  0., -1.],\n",
              "        [ 0.,  0.,  0.,  0.,  0.,  0.,  0.,  0.],\n",
              "        [ 0.,  0.,  0.,  0.,  0.,  0.,  0.,  0.],\n",
              "        [ 0.,  0.,  0.,  0.,  0.,  0.,  0.,  0.],\n",
              "        [ 0.,  0.,  0.,  0.,  0.,  0.,  0.,  0.],\n",
              "        [ 0.,  0.,  0.,  0.,  0.,  0.,  0.,  0.],\n",
              "        [ 0.,  0.,  0.,  0.,  0.,  0.,  0.,  0.],\n",
              "        [ 1.,  0.,  0.,  0.,  0.,  0.,  0.,  1.]],\n",
              "\n",
              "       [[ 0., -1.,  0.,  0.,  0.,  0., -1.,  0.],\n",
              "        [ 0.,  0.,  0.,  0.,  0.,  0.,  0.,  0.],\n",
              "        [ 0.,  0.,  0.,  0.,  0.,  0.,  0.,  0.],\n",
              "        [ 0.,  0.,  0.,  0.,  0.,  0.,  0.,  0.],\n",
              "        [ 0.,  0.,  0.,  0.,  0.,  0.,  0.,  0.],\n",
              "        [ 0.,  0.,  0.,  0.,  0.,  0.,  0.,  0.],\n",
              "        [ 0.,  0.,  0.,  0.,  0.,  0.,  0.,  0.],\n",
              "        [ 0.,  1.,  0.,  0.,  0.,  0.,  1.,  0.]],\n",
              "\n",
              "       [[ 0.,  0., -1.,  0.,  0., -1.,  0.,  0.],\n",
              "        [ 0.,  0.,  0.,  0.,  0.,  0.,  0.,  0.],\n",
              "        [ 0.,  0.,  0.,  0.,  0.,  0.,  0.,  0.],\n",
              "        [ 0.,  0.,  0.,  0.,  0.,  0.,  0.,  0.],\n",
              "        [ 0.,  0.,  0.,  0.,  0.,  0.,  0.,  0.],\n",
              "        [ 0.,  0.,  0.,  0.,  0.,  0.,  0.,  0.],\n",
              "        [ 0.,  0.,  0.,  0.,  0.,  0.,  0.,  0.],\n",
              "        [ 0.,  0.,  1.,  0.,  0.,  1.,  0.,  0.]],\n",
              "\n",
              "       [[ 0.,  0.,  0., -1.,  0.,  0.,  0.,  0.],\n",
              "        [ 0.,  0.,  0.,  0.,  0.,  0.,  0.,  0.],\n",
              "        [ 0.,  0.,  0.,  0.,  0.,  0.,  0.,  0.],\n",
              "        [ 0.,  0.,  0.,  0.,  0.,  0.,  0.,  0.],\n",
              "        [ 0.,  0.,  0.,  0.,  0.,  0.,  0.,  0.],\n",
              "        [ 0.,  0.,  0.,  0.,  0.,  0.,  0.,  0.],\n",
              "        [ 0.,  0.,  0.,  0.,  0.,  0.,  0.,  0.],\n",
              "        [ 0.,  0.,  0.,  1.,  0.,  0.,  0.,  0.]],\n",
              "\n",
              "       [[ 0.,  0.,  0.,  0., -1.,  0.,  0.,  0.],\n",
              "        [ 0.,  0.,  0.,  0.,  0.,  0.,  0.,  0.],\n",
              "        [ 0.,  0.,  0.,  0.,  0.,  0.,  0.,  0.],\n",
              "        [ 0.,  0.,  0.,  0.,  0.,  0.,  0.,  0.],\n",
              "        [ 0.,  0.,  0.,  0.,  0.,  0.,  0.,  0.],\n",
              "        [ 0.,  0.,  0.,  0.,  0.,  0.,  0.,  0.],\n",
              "        [ 0.,  0.,  0.,  0.,  0.,  0.,  0.,  0.],\n",
              "        [ 0.,  0.,  0.,  0.,  1.,  0.,  0.,  0.]],\n",
              "\n",
              "       [[ 0.,  0.,  0.,  0.,  0.,  0.,  0.,  0.],\n",
              "        [ 0.,  0.,  0.,  0.,  0.,  0.,  0.,  0.],\n",
              "        [ 0.,  0.,  0.,  0.,  0.,  0.,  0.,  0.],\n",
              "        [ 0.,  0.,  0.,  0.,  0.,  0.,  0.,  0.],\n",
              "        [ 0.,  0.,  0.,  0.,  0.,  0.,  0.,  0.],\n",
              "        [ 0.,  0.,  0.,  0.,  0.,  0.,  0.,  0.],\n",
              "        [ 0.,  0.,  0.,  0.,  0.,  0.,  0.,  0.],\n",
              "        [ 0.,  0.,  0.,  0.,  0.,  0.,  0.,  0.]]])"
            ]
          },
          "metadata": {
            "tags": []
          },
          "execution_count": 57
        }
      ]
    },
    {
      "cell_type": "code",
      "metadata": {
        "id": "WstjS2tXKM-p"
      },
      "source": [
        "# get all inputs from the data set\n",
        "\n",
        "def get_all_inputs():\n",
        "  pgn = open(\"/content/drive/MyDrive/Colab Notebooks/ficsgamesdb_202012_CvC_nomovetimes_211481.pgn\") # get the data set\n",
        "  cur_game = chess.pgn.read_game(pgn) # get a game\n",
        "  all_inputs, all_labels = get_board_states(cur_game) # get inputs and labels from game\n",
        "  # Loop indefinitely grabbing all games, break out when we reach eof\n",
        "  while True:\n",
        "    cur_game = chess.pgn.read_game(pgn)\n",
        "    if not cur_game:\n",
        "      break\n",
        "    all_moves, label = get_board_states(cur_game)\n",
        "    all_inputs = np.concatenate((all_inputs, all_moves), axis=0)\n",
        "    all_labels = np.concatenate((all_labels, label), axis=0)\n",
        "  return all_inputs, all_labels\n"
      ],
      "execution_count": null,
      "outputs": []
    },
    {
      "cell_type": "code",
      "metadata": {
        "colab": {
          "base_uri": "https://localhost:8080/"
        },
        "id": "BNc2Ws48AqhL",
        "outputId": "3ebf740c-851f-4a03-b54c-2bad432477b1"
      },
      "source": [
        "inputs, labels = get_all_inputs()\n",
        "print(inputs.shape)\n",
        "print(labels.shape)"
      ],
      "execution_count": null,
      "outputs": [
        {
          "output_type": "stream",
          "text": [
            "(315958, 7, 8, 8)\n",
            "(315958, 1)\n"
          ],
          "name": "stdout"
        }
      ]
    },
    {
      "cell_type": "code",
      "metadata": {
        "colab": {
          "base_uri": "https://localhost:8080/"
        },
        "id": "WM7TmvZbCAVw",
        "outputId": "ef23dcc6-d363-4558-8087-c7d80a84a886"
      },
      "source": [
        "# divide the inputs into training data set and validation data set\n",
        "random_index = np.arange(inputs.shape[0])\n",
        "np.random.shuffle(random_index)\n",
        "\n",
        "inputs = inputs[random_index]\n",
        "labels = labels[random_index]\n",
        "split_point = (int)(len(random_index)*0.8)\n",
        "\n",
        "train_X, train_y, test_X, test_y = inputs[:split_point], labels[:split_point], inputs[split_point:], labels[split_point:]\n",
        "\n",
        "print(train_X.shape)\n",
        "print(test_X.shape)\n",
        "print(train_y.shape)\n",
        "print(test_y.shape)\n"
      ],
      "execution_count": null,
      "outputs": [
        {
          "output_type": "stream",
          "text": [
            "(252766, 7, 8, 8)\n",
            "(63192, 7, 8, 8)\n",
            "(252766, 1)\n",
            "(63192, 1)\n"
          ],
          "name": "stdout"
        }
      ]
    },
    {
      "cell_type": "code",
      "metadata": {
        "colab": {
          "base_uri": "https://localhost:8080/"
        },
        "id": "PybjhIbpfhyU",
        "outputId": "bab5fae6-2a14-4717-ab17-f2d3e2ba6f75"
      },
      "source": [
        "#\n",
        "# Testing the parameters for convolutional neural network\n",
        "#\n",
        "drop_out_rates = [0.1, 0.2] # two different dropout rate\n",
        "filterss = [8, 16, 32] # dimensionality\n",
        "batch_sizes = [(2,2),(4,4),(6,6)] # the kernel size\n",
        "li_history = []\n",
        "\n",
        "for filter in filters:\n",
        "  model = keras.Sequential(\n",
        "          [\n",
        "          layers.Conv2D(filter, (4,4), activation='relu', input_shape=(7, 8, 8), padding='same'),\n",
        "          layers.Dropout(0.1),\n",
        "          layers.Conv2D(filter, (4,4), activation='relu', padding='same'),\n",
        "          layers.Dropout(0.1),\n",
        "          layers.Conv2D(filter, (4,4), activation='relu', padding='same'),\n",
        "          layers.Dropout(0.1),\n",
        "          layers.Flatten(), # need to be flatted from 2d to 1d\n",
        "          layers.Dense(64, activation='relu'),\n",
        "          layers.Dense(1, activation='sigmoid'),\n",
        "          ]\n",
        "        )\n",
        "\n",
        "  model.compile(optimizer='adam',\n",
        "                      loss='mean_squared_error',\n",
        "                      metrics=['accuracy'])\n",
        "            \n",
        "  history = model.fit(train_X, train_y, verbose=1, epochs=10, batch_size=5000)\n",
        "    \n",
        "  li_history.append([history, filters])"
      ],
      "execution_count": null,
      "outputs": [
        {
          "output_type": "stream",
          "text": [
            "Epoch 1/10\n",
            "51/51 [==============================] - 36s 690ms/step - loss: 0.0669 - accuracy: 0.5370\n",
            "Epoch 2/10\n",
            "51/51 [==============================] - 35s 693ms/step - loss: 0.0593 - accuracy: 0.5382\n",
            "Epoch 3/10\n",
            "51/51 [==============================] - 35s 693ms/step - loss: 0.0578 - accuracy: 0.5382\n",
            "Epoch 4/10\n",
            "51/51 [==============================] - 36s 696ms/step - loss: 0.0566 - accuracy: 0.5382\n",
            "Epoch 5/10\n",
            "51/51 [==============================] - 35s 695ms/step - loss: 0.0559 - accuracy: 0.5382\n",
            "Epoch 6/10\n",
            "51/51 [==============================] - 35s 693ms/step - loss: 0.0552 - accuracy: 0.5382\n",
            "Epoch 7/10\n",
            "51/51 [==============================] - 35s 694ms/step - loss: 0.0545 - accuracy: 0.5382\n",
            "Epoch 8/10\n",
            "51/51 [==============================] - 35s 693ms/step - loss: 0.0539 - accuracy: 0.5382\n",
            "Epoch 9/10\n",
            "51/51 [==============================] - 36s 702ms/step - loss: 0.0533 - accuracy: 0.5382\n",
            "Epoch 10/10\n",
            "51/51 [==============================] - 35s 695ms/step - loss: 0.0529 - accuracy: 0.5382\n",
            "Epoch 1/10\n",
            "51/51 [==============================] - 57s 1s/step - loss: 0.0650 - accuracy: 0.5368\n",
            "Epoch 2/10\n",
            "51/51 [==============================] - 57s 1s/step - loss: 0.0591 - accuracy: 0.5382\n",
            "Epoch 3/10\n",
            "51/51 [==============================] - 57s 1s/step - loss: 0.0570 - accuracy: 0.5382\n",
            "Epoch 4/10\n",
            "51/51 [==============================] - 57s 1s/step - loss: 0.0548 - accuracy: 0.5382\n",
            "Epoch 5/10\n",
            "51/51 [==============================] - 57s 1s/step - loss: 0.0536 - accuracy: 0.5382\n",
            "Epoch 6/10\n",
            "51/51 [==============================] - 57s 1s/step - loss: 0.0526 - accuracy: 0.5382\n",
            "Epoch 7/10\n",
            "51/51 [==============================] - 57s 1s/step - loss: 0.0515 - accuracy: 0.5382\n",
            "Epoch 8/10\n",
            "51/51 [==============================] - 57s 1s/step - loss: 0.0508 - accuracy: 0.5382\n",
            "Epoch 9/10\n",
            "51/51 [==============================] - 57s 1s/step - loss: 0.0501 - accuracy: 0.5382\n",
            "Epoch 10/10\n",
            "51/51 [==============================] - 57s 1s/step - loss: 0.0494 - accuracy: 0.5382\n",
            "Epoch 1/10\n",
            "51/51 [==============================] - 123s 2s/step - loss: 0.0656 - accuracy: 0.5291\n",
            "Epoch 2/10\n",
            "51/51 [==============================] - 123s 2s/step - loss: 0.0580 - accuracy: 0.5382\n",
            "Epoch 3/10\n",
            "51/51 [==============================] - 120s 2s/step - loss: 0.0544 - accuracy: 0.5382\n",
            "Epoch 4/10\n",
            "51/51 [==============================] - 119s 2s/step - loss: 0.0522 - accuracy: 0.5382\n",
            "Epoch 5/10\n",
            "51/51 [==============================] - 120s 2s/step - loss: 0.0502 - accuracy: 0.5382\n",
            "Epoch 6/10\n",
            "51/51 [==============================] - 120s 2s/step - loss: 0.0483 - accuracy: 0.5382\n",
            "Epoch 7/10\n",
            "51/51 [==============================] - 120s 2s/step - loss: 0.0469 - accuracy: 0.5382\n",
            "Epoch 8/10\n",
            "51/51 [==============================] - 119s 2s/step - loss: 0.0454 - accuracy: 0.5382\n",
            "Epoch 9/10\n",
            "51/51 [==============================] - 119s 2s/step - loss: 0.0443 - accuracy: 0.5382\n",
            "Epoch 10/10\n",
            "51/51 [==============================] - 119s 2s/step - loss: 0.0434 - accuracy: 0.5382\n"
          ],
          "name": "stdout"
        }
      ]
    },
    {
      "cell_type": "code",
      "metadata": {
        "colab": {
          "base_uri": "https://localhost:8080/"
        },
        "id": "-OiPwpUxedur",
        "outputId": "bd5a2a33-9e5e-4cdf-b139-2f38bf944e5b"
      },
      "source": [
        "# testing different batch size \n",
        "li_history1 = []\n",
        "\n",
        "for batch_size in batch_sizes:\n",
        "  model = keras.Sequential(\n",
        "          [\n",
        "          layers.Conv2D(8, batch_size, activation='relu', input_shape=(7, 8, 8), padding='same'),\n",
        "          layers.Dropout(0.1),\n",
        "          layers.Conv2D(16, batch_size, activation='relu', padding='same'),\n",
        "          layers.Dropout(0.1),\n",
        "          layers.Conv2D(32, batch_size, activation='relu', padding='same'),\n",
        "          layers.Dropout(0.1),\n",
        "          layers.Flatten(), # need to be flatted from 2d to 1d\n",
        "          layers.Dense(64, activation='relu'),\n",
        "          layers.Dense(1, activation='sigmoid'),\n",
        "          ]\n",
        "        )\n",
        "\n",
        "  model.compile(optimizer='adam',\n",
        "                      loss='mean_squared_error',\n",
        "                      metrics=['accuracy'])\n",
        "            \n",
        "  history = model.fit(train_X, train_y, verbose=1, epochs=10, batch_size=5000)\n",
        "    \n",
        "  li_history1.append([history, batch_size])"
      ],
      "execution_count": null,
      "outputs": [
        {
          "output_type": "stream",
          "text": [
            "Epoch 1/10\n",
            "51/51 [==============================] - 29s 547ms/step - loss: 0.0652 - accuracy: 0.5361\n",
            "Epoch 2/10\n",
            "51/51 [==============================] - 28s 547ms/step - loss: 0.0593 - accuracy: 0.5401\n",
            "Epoch 3/10\n",
            "51/51 [==============================] - 28s 544ms/step - loss: 0.0579 - accuracy: 0.5401\n",
            "Epoch 4/10\n",
            "51/51 [==============================] - 29s 561ms/step - loss: 0.0566 - accuracy: 0.5401\n",
            "Epoch 5/10\n",
            "51/51 [==============================] - 29s 565ms/step - loss: 0.0557 - accuracy: 0.5401\n",
            "Epoch 6/10\n",
            "51/51 [==============================] - 30s 582ms/step - loss: 0.0550 - accuracy: 0.5401\n",
            "Epoch 7/10\n",
            "51/51 [==============================] - 30s 586ms/step - loss: 0.0546 - accuracy: 0.5401\n",
            "Epoch 8/10\n",
            "51/51 [==============================] - 30s 581ms/step - loss: 0.0542 - accuracy: 0.5401\n",
            "Epoch 9/10\n",
            "51/51 [==============================] - 30s 578ms/step - loss: 0.0539 - accuracy: 0.5401\n",
            "Epoch 10/10\n",
            "51/51 [==============================] - 29s 573ms/step - loss: 0.0536 - accuracy: 0.5401\n",
            "Epoch 1/10\n",
            "51/51 [==============================] - 59s 1s/step - loss: 0.0659 - accuracy: 0.5332\n",
            "Epoch 2/10\n",
            "51/51 [==============================] - 57s 1s/step - loss: 0.0592 - accuracy: 0.5401\n",
            "Epoch 3/10\n",
            "51/51 [==============================] - 55s 1s/step - loss: 0.0575 - accuracy: 0.5401\n",
            "Epoch 4/10\n",
            "51/51 [==============================] - 57s 1s/step - loss: 0.0557 - accuracy: 0.5401\n",
            "Epoch 5/10\n",
            "51/51 [==============================] - 56s 1s/step - loss: 0.0545 - accuracy: 0.5401\n",
            "Epoch 6/10\n",
            "51/51 [==============================] - 56s 1s/step - loss: 0.0535 - accuracy: 0.5401\n",
            "Epoch 7/10\n",
            "51/51 [==============================] - 58s 1s/step - loss: 0.0528 - accuracy: 0.5401\n",
            "Epoch 8/10\n",
            "51/51 [==============================] - 57s 1s/step - loss: 0.0521 - accuracy: 0.5401\n",
            "Epoch 9/10\n",
            "51/51 [==============================] - 56s 1s/step - loss: 0.0516 - accuracy: 0.5401\n",
            "Epoch 10/10\n",
            "51/51 [==============================] - 56s 1s/step - loss: 0.0512 - accuracy: 0.5401\n",
            "Epoch 1/10\n",
            "51/51 [==============================] - 104s 2s/step - loss: 0.0648 - accuracy: 0.5390\n",
            "Epoch 2/10\n",
            "51/51 [==============================] - 103s 2s/step - loss: 0.0580 - accuracy: 0.5401\n",
            "Epoch 3/10\n",
            "51/51 [==============================] - 104s 2s/step - loss: 0.0555 - accuracy: 0.5401\n",
            "Epoch 4/10\n",
            "51/51 [==============================] - 104s 2s/step - loss: 0.0533 - accuracy: 0.5401\n",
            "Epoch 5/10\n",
            "51/51 [==============================] - 104s 2s/step - loss: 0.0518 - accuracy: 0.5401\n",
            "Epoch 6/10\n",
            "51/51 [==============================] - 105s 2s/step - loss: 0.0504 - accuracy: 0.5401\n",
            "Epoch 7/10\n",
            "51/51 [==============================] - 104s 2s/step - loss: 0.0495 - accuracy: 0.5401\n",
            "Epoch 8/10\n",
            "51/51 [==============================] - 104s 2s/step - loss: 0.0485 - accuracy: 0.5401\n",
            "Epoch 9/10\n",
            "51/51 [==============================] - 104s 2s/step - loss: 0.0478 - accuracy: 0.5401\n",
            "Epoch 10/10\n",
            "51/51 [==============================] - 105s 2s/step - loss: 0.0470 - accuracy: 0.5401\n"
          ],
          "name": "stdout"
        }
      ]
    },
    {
      "cell_type": "code",
      "metadata": {
        "id": "kMjnGBS-1sVm",
        "colab": {
          "base_uri": "https://localhost:8080/"
        },
        "outputId": "8951371d-ecfc-40df-d1b5-45818c803490"
      },
      "source": [
        "# check the historys are saved successfully\n",
        "\n",
        "for his in li_history:\n",
        "  print(his[1])\n",
        "  print(his[2])\n",
        "  print(his[0].history['loss'])\n",
        "  print(his[0].history['accuracy'])\n",
        "  print()"
      ],
      "execution_count": null,
      "outputs": [
        {
          "output_type": "stream",
          "text": [
            "relu\n",
            "0.1\n",
            "[0.0549541711807251, 0.05231402814388275, 0.051419697701931, 0.05074369162321091, 0.050348956137895584, 0.049900930374860764, 0.0495898500084877, 0.04934633523225784, 0.049166031181812286, 0.04896648973226547]\n",
            "[0.5400726199150085, 0.5400053858757019, 0.5399618744850159, 0.5399262309074402, 0.5397640466690063, 0.5397403240203857, 0.5396928191184998, 0.5395860075950623, 0.5396453738212585, 0.5396295189857483]\n",
            "\n",
            "sigmoid\n",
            "0.1\n",
            "[0.05975646898150444, 0.057148486375808716, 0.05569593980908394, 0.05451018363237381, 0.05356859415769577, 0.05288706347346306, 0.05245773121714592, 0.05188014358282089, 0.05147068202495575, 0.05108470097184181]\n",
            "[0.5401003360748291, 0.5401280522346497, 0.5401280522346497, 0.5401042699813843, 0.5400766134262085, 0.5400370359420776, 0.540013313293457, 0.5400331020355225, 0.5399262309074402, 0.5399183630943298]\n",
            "\n",
            "relu\n",
            "0.2\n",
            "[0.05618193373084068, 0.05400955677032471, 0.05332719162106514, 0.05281415581703186, 0.05265325680375099, 0.052378732711076736, 0.052209559828042984, 0.052093442529439926, 0.0519728846848011, 0.05187979340553284]\n",
            "[0.5400331020355225, 0.5400726199150085, 0.5400291085243225, 0.5400370359420776, 0.539965808391571, 0.5399381518363953, 0.5399143695831299, 0.5398867130279541, 0.5399262309074402, 0.5398075580596924]\n",
            "\n",
            "sigmoid\n",
            "0.2\n",
            "[0.06023547053337097, 0.05767243355512619, 0.05659192055463791, 0.05563562735915184, 0.05482490733265877, 0.05428946763277054, 0.05381900072097778, 0.053492799401283264, 0.05331047624349594, 0.053115829825401306]\n",
            "[0.5400686860084534, 0.5401280522346497, 0.5401161313056946, 0.5400964021682739, 0.5400449633598328, 0.5400686860084534, 0.540013313293457, 0.5400053858757019, 0.539969801902771, 0.5399776697158813]\n",
            "\n"
          ],
          "name": "stdout"
        }
      ]
    },
    {
      "cell_type": "code",
      "metadata": {
        "colab": {
          "base_uri": "https://localhost:8080/",
          "height": 295
        },
        "id": "M_kynh8P3gSj",
        "outputId": "55fb3c00-7b32-4ea0-8068-03c47f9de5e7"
      },
      "source": [
        "import matplotlib.pyplot as plt \n",
        "\n",
        "# plotting the metrics\n",
        "\n",
        "for his in li_history:\n",
        "  plt.plot(his[0].history['loss'], label = f'filter: {his[1]}')\n",
        "plt.title('Mean Squared Error vs Iterations')\n",
        "plt.ylabel('Mean Squared Error')\n",
        "plt.xlabel('Epoch')\n",
        "plt.legend()\n",
        "plt.savefig('/content/drive/MyDrive/Colab Notebooks/cnn_loss_a.png')"
      ],
      "execution_count": null,
      "outputs": [
        {
          "output_type": "display_data",
          "data": {
            "image/png": "[encoded data removed]",
            "text/plain": [
              "<Figure size 432x288 with 1 Axes>"
            ]
          },
          "metadata": {
            "tags": [],
            "needs_background": "light"
          }
        }
      ]
    },
    {
      "cell_type": "code",
      "metadata": {
        "colab": {
          "base_uri": "https://localhost:8080/",
          "height": 295
        },
        "id": "XwBdBHBNaxr_",
        "outputId": "438891c5-e318-425e-9965-7ea2356e9fc9"
      },
      "source": [
        "import matplotlib.pyplot as plt \n",
        "\n",
        "# plotting the metrics\n",
        "\n",
        "for his in li_history1:\n",
        "  plt.plot(his[0].history['loss'], label = f'batch size {his[1]}')\n",
        "plt.title('Mean Squared Error vs Iterations')\n",
        "plt.ylabel('Mean Squared Error')\n",
        "plt.xlabel('Epoch')\n",
        "plt.legend()\n",
        "plt.savefig('/content/drive/MyDrive/Colab Notebooks/cnn_loss_a.png')"
      ],
      "execution_count": null,
      "outputs": [
        {
          "output_type": "display_data",
          "data": {
            "image/png": "[encoded data removed]",
            "text/plain": [
              "<Figure size 432x288 with 1 Axes>"
            ]
          },
          "metadata": {
            "tags": [],
            "needs_background": "light"
          }
        }
      ]
    },
    {
      "cell_type": "code",
      "metadata": {
        "colab": {
          "base_uri": "https://localhost:8080/"
        },
        "id": "7k9UxHTXEaBq",
        "outputId": "59f5b20f-e251-4a29-d4ba-deec9a1fbe18"
      },
      "source": [
        "model_final = keras.Sequential(\n",
        "      [\n",
        "      layers.Conv2D(32, (6,6), activation='relu', input_shape=(7, 8, 8), padding='same'),\n",
        "      layers.Dropout(0.1),\n",
        "      layers.Conv2D(32, (6,6), activation='relu', padding='same'),\n",
        "      layers.Dropout(0.1),\n",
        "      layers.Conv2D(32, (6,6), activation='relu', padding='same'),\n",
        "      layers.Dropout(0.1),\n",
        "      layers.Flatten(), # need to be flatted from 2d to 1d\n",
        "      layers.Dense(64, activation='relu'),\n",
        "      layers.Dense(1, activation='relu'),\n",
        "      ]\n",
        "    )\n",
        "\n",
        "model_final.compile(optimizer='adam',\n",
        "                  loss='mean_squared_error')\n",
        "\n",
        "history = model_final.fit(train_X, train_y, verbose=1, epochs=10, batch_size=32, validation_data=(test_X, test_y))\n",
        "\n",
        "model_final.save(\"/content/drive/MyDrive/Colab Notebooks/CNN_chess_final1.h5\")"
      ],
      "execution_count": null,
      "outputs": [
        {
          "output_type": "stream",
          "text": [
            "Epoch 1/10\n",
            "7899/7899 [==============================] - 320s 40ms/step - loss: 0.0509 - val_loss: 0.0447\n",
            "Epoch 2/10\n",
            "7899/7899 [==============================] - 324s 41ms/step - loss: 0.0433 - val_loss: 0.0407\n",
            "Epoch 3/10\n",
            "7899/7899 [==============================] - 325s 41ms/step - loss: 0.0400 - val_loss: 0.0378\n",
            "Epoch 4/10\n",
            "7899/7899 [==============================] - 318s 40ms/step - loss: 0.0373 - val_loss: 0.0361\n",
            "Epoch 5/10\n",
            "7899/7899 [==============================] - 322s 41ms/step - loss: 0.0353 - val_loss: 0.0339\n",
            "Epoch 6/10\n",
            "7899/7899 [==============================] - 321s 41ms/step - loss: 0.0336 - val_loss: 0.0326\n",
            "Epoch 7/10\n",
            "7899/7899 [==============================] - 323s 41ms/step - loss: 0.0322 - val_loss: 0.0318\n",
            "Epoch 8/10\n",
            "7899/7899 [==============================] - 323s 41ms/step - loss: 0.0311 - val_loss: 0.0317\n",
            "Epoch 9/10\n",
            "7899/7899 [==============================] - 327s 41ms/step - loss: 0.0302 - val_loss: 0.0304\n",
            "Epoch 10/10\n",
            "7899/7899 [==============================] - 327s 41ms/step - loss: 0.0296 - val_loss: 0.0302\n"
          ],
          "name": "stdout"
        }
      ]
    },
    {
      "cell_type": "code",
      "metadata": {
        "colab": {
          "base_uri": "https://localhost:8080/",
          "height": 295
        },
        "id": "VI1FmTQw1M_g",
        "outputId": "63dda42d-3c3c-4e2f-fa4e-a3399a9b81ad"
      },
      "source": [
        "import matplotlib.pyplot as plt \n",
        "\n",
        "plt.plot(history.history['loss'], label = 'train set')\n",
        "plt.plot(history.history['val_loss'], label = 'validation set')\n",
        "plt.title('Mean Squared Error vs Iterations')\n",
        "plt.ylabel('Mean Squared Error')\n",
        "plt.xlabel('Epoch')\n",
        "plt.legend()\n",
        "plt.savefig('/content/drive/MyDrive/Colab Notebooks/cnn_loss_model.png')"
      ],
      "execution_count": null,
      "outputs": [
        {
          "output_type": "display_data",
          "data": {
            "image/png": "[encoded data removed]",
            "text/plain": [
              "<Figure size 432x288 with 1 Axes>"
            ]
          },
          "metadata": {
            "tags": [],
            "needs_background": "light"
          }
        }
      ]
    }
  ]
}